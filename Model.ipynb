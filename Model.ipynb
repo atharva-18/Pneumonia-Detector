{
  "nbformat": 4,
  "nbformat_minor": 0,
  "metadata": {
    "colab": {
      "name": "Model.ipynb",
      "version": "0.3.2",
      "provenance": [],
      "collapsed_sections": []
    },
    "kernelspec": {
      "name": "python3",
      "display_name": "Python 3"
    },
    "accelerator": "GPU"
  },
  "cells": [
    {
      "cell_type": "code",
      "metadata": {
        "id": "U4X2w48s6Mr0",
        "colab_type": "code",
        "outputId": "75ccc6c3-f9ca-41a4-8e91-da8026c0efca",
        "colab": {
          "base_uri": "https://localhost:8080/",
          "height": 35
        }
      },
      "source": [
        "import numpy as np\n",
        "import tensorflow as tf\n",
        "from keras import layers\n",
        "from keras.layers import Input, Add, Dense, Dropout,Activation, ZeroPadding2D, BatchNormalization, Flatten, Conv2D, AveragePooling2D, MaxPooling2D, GlobalMaxPooling2D\n",
        "from keras.callbacks import EarlyStopping\n",
        "from keras.models import Model, load_model\n",
        "from keras.preprocessing import image\n",
        "from keras.utils import layer_utils\n",
        "from keras.utils.data_utils import get_file\n",
        "from keras.preprocessing.image import ImageDataGenerator\n",
        "from keras.applications.imagenet_utils import preprocess_input\n",
        "import pydot\n",
        "from IPython.display import display\n",
        "from keras.utils.vis_utils import model_to_dot\n",
        "from keras.utils import plot_model\n",
        "from keras.initializers import glorot_uniform\n",
        "from keras.applications import VGG19\n",
        "from keras.constraints import maxnorm\n",
        "from keras import optimizers\n",
        "from keras.optimizers import Adam, SGD , RMSprop\n",
        "import scipy.misc\n",
        "from matplotlib.pyplot import imshow\n",
        "import matplotlib.image as mpimg\n",
        "%matplotlib inline\n",
        "import matplotlib.pyplot as plt\n",
        "from sklearn.metrics import accuracy_score\n",
        "from PIL import Image\n",
        "\n",
        "import keras.backend as K\n",
        "#K.set_image_data_format('channels_last')\n",
        "#K.set_learning_phase(1)"
      ],
      "execution_count": 1,
      "outputs": [
        {
          "output_type": "stream",
          "text": [
            "Using TensorFlow backend.\n"
          ],
          "name": "stderr"
        }
      ]
    },
    {
      "cell_type": "code",
      "metadata": {
        "id": "7gWVve03N-Be",
        "colab_type": "code",
        "colab": {}
      },
      "source": [
        "num_px = 128\n",
        "C = 2\n",
        "B_size = 64\n",
        "E = 20"
      ],
      "execution_count": 0,
      "outputs": []
    },
    {
      "cell_type": "code",
      "metadata": {
        "id": "aEMOxk8q8NM1",
        "colab_type": "code",
        "outputId": "db861fe2-5f13-4095-9590-536692f9e0cf",
        "colab": {
          "base_uri": "https://localhost:8080/",
          "height": 74
        }
      },
      "source": [
        "base_model = VGG19(weights = \"imagenet\", include_top=False, \n",
        "                   input_shape = (num_px, num_px, 3))\n",
        "x = base_model.output\n",
        "x = Flatten()(x)\n",
        "x = Dense(1024, activation = \"relu\")(x)\n",
        "x = Dropout(0.5)(x)\n",
        "x = BatchNormalization()(x)\n",
        "x = Dense(256, activation = \"relu\")(x)\n",
        "x = Dropout(0.5)(x)\n",
        "x = BatchNormalization()(x)\n",
        "preds = Dense(C, activation = \"softmax\")(x)\n",
        "\n",
        "model = Model(input = base_model.input, output = preds)"
      ],
      "execution_count": 5,
      "outputs": [
        {
          "output_type": "stream",
          "text": [
            "/usr/local/lib/python3.6/dist-packages/ipykernel_launcher.py:13: UserWarning: Update your `Model` call to the Keras 2 API: `Model(inputs=Tensor(\"in..., outputs=Tensor(\"de...)`\n",
            "  del sys.path[0]\n"
          ],
          "name": "stderr"
        }
      ]
    },
    {
      "cell_type": "code",
      "metadata": {
        "id": "g1bkRxzcJgFp",
        "colab_type": "code",
        "colab": {}
      },
      "source": [
        "for layer in model.layers[:16]:\n",
        "    layer.trainable=False\n",
        "for layer in model.layers[16:]:\n",
        "    layer.trainable=True"
      ],
      "execution_count": 0,
      "outputs": []
    },
    {
      "cell_type": "code",
      "metadata": {
        "id": "Qe3GaBr5Lzwa",
        "colab_type": "code",
        "outputId": "434b772c-659e-4dad-a278-dd7be5ca9bb5",
        "colab": {
          "base_uri": "https://localhost:8080/",
          "height": 1000
        }
      },
      "source": [
        "model.summary()"
      ],
      "execution_count": 7,
      "outputs": [
        {
          "output_type": "stream",
          "text": [
            "_________________________________________________________________\n",
            "Layer (type)                 Output Shape              Param #   \n",
            "=================================================================\n",
            "input_3 (InputLayer)         (None, 128, 128, 3)       0         \n",
            "_________________________________________________________________\n",
            "block1_conv1 (Conv2D)        (None, 128, 128, 64)      1792      \n",
            "_________________________________________________________________\n",
            "block1_conv2 (Conv2D)        (None, 128, 128, 64)      36928     \n",
            "_________________________________________________________________\n",
            "block1_pool (MaxPooling2D)   (None, 64, 64, 64)        0         \n",
            "_________________________________________________________________\n",
            "block2_conv1 (Conv2D)        (None, 64, 64, 128)       73856     \n",
            "_________________________________________________________________\n",
            "block2_conv2 (Conv2D)        (None, 64, 64, 128)       147584    \n",
            "_________________________________________________________________\n",
            "block2_pool (MaxPooling2D)   (None, 32, 32, 128)       0         \n",
            "_________________________________________________________________\n",
            "block3_conv1 (Conv2D)        (None, 32, 32, 256)       295168    \n",
            "_________________________________________________________________\n",
            "block3_conv2 (Conv2D)        (None, 32, 32, 256)       590080    \n",
            "_________________________________________________________________\n",
            "block3_conv3 (Conv2D)        (None, 32, 32, 256)       590080    \n",
            "_________________________________________________________________\n",
            "block3_conv4 (Conv2D)        (None, 32, 32, 256)       590080    \n",
            "_________________________________________________________________\n",
            "block3_pool (MaxPooling2D)   (None, 16, 16, 256)       0         \n",
            "_________________________________________________________________\n",
            "block4_conv1 (Conv2D)        (None, 16, 16, 512)       1180160   \n",
            "_________________________________________________________________\n",
            "block4_conv2 (Conv2D)        (None, 16, 16, 512)       2359808   \n",
            "_________________________________________________________________\n",
            "block4_conv3 (Conv2D)        (None, 16, 16, 512)       2359808   \n",
            "_________________________________________________________________\n",
            "block4_conv4 (Conv2D)        (None, 16, 16, 512)       2359808   \n",
            "_________________________________________________________________\n",
            "block4_pool (MaxPooling2D)   (None, 8, 8, 512)         0         \n",
            "_________________________________________________________________\n",
            "block5_conv1 (Conv2D)        (None, 8, 8, 512)         2359808   \n",
            "_________________________________________________________________\n",
            "block5_conv2 (Conv2D)        (None, 8, 8, 512)         2359808   \n",
            "_________________________________________________________________\n",
            "block5_conv3 (Conv2D)        (None, 8, 8, 512)         2359808   \n",
            "_________________________________________________________________\n",
            "block5_conv4 (Conv2D)        (None, 8, 8, 512)         2359808   \n",
            "_________________________________________________________________\n",
            "block5_pool (MaxPooling2D)   (None, 4, 4, 512)         0         \n",
            "_________________________________________________________________\n",
            "flatten_3 (Flatten)          (None, 8192)              0         \n",
            "_________________________________________________________________\n",
            "dense_5 (Dense)              (None, 1024)              8389632   \n",
            "_________________________________________________________________\n",
            "dropout_4 (Dropout)          (None, 1024)              0         \n",
            "_________________________________________________________________\n",
            "batch_normalization_3 (Batch (None, 1024)              4096      \n",
            "_________________________________________________________________\n",
            "dense_6 (Dense)              (None, 256)               262400    \n",
            "_________________________________________________________________\n",
            "dropout_5 (Dropout)          (None, 256)               0         \n",
            "_________________________________________________________________\n",
            "batch_normalization_4 (Batch (None, 256)               1024      \n",
            "_________________________________________________________________\n",
            "dense_7 (Dense)              (None, 2)                 514       \n",
            "=================================================================\n",
            "Total params: 28,682,050\n",
            "Trainable params: 18,094,338\n",
            "Non-trainable params: 10,587,712\n",
            "_________________________________________________________________\n"
          ],
          "name": "stdout"
        }
      ]
    },
    {
      "cell_type": "code",
      "metadata": {
        "id": "IhuFoBJsyC_i",
        "colab_type": "code",
        "colab": {}
      },
      "source": [
        "early = EarlyStopping(monitor = 'val_acc', min_delta = 0, \n",
        "                      patience = 10, verbose= 1 , mode = 'auto')"
      ],
      "execution_count": 0,
      "outputs": []
    },
    {
      "cell_type": "code",
      "metadata": {
        "id": "GiSwdIW9NE6y",
        "colab_type": "code",
        "outputId": "9912d1d1-7405-498c-8bc8-33ef7ac79b74",
        "colab": {
          "base_uri": "https://localhost:8080/",
          "height": 129
        }
      },
      "source": [
        "model.compile(loss = \"binary_crossentropy\", \n",
        "              optimizer = SGD(lr=0.01, momentum=0.9, decay=1e-6, nesterov=True), \n",
        "              metrics=[\"accuracy\"])"
      ],
      "execution_count": 9,
      "outputs": [
        {
          "output_type": "stream",
          "text": [
            "W0731 17:40:57.039293 139883695503232 deprecation_wrapper.py:119] From /usr/local/lib/python3.6/dist-packages/keras/optimizers.py:790: The name tf.train.Optimizer is deprecated. Please use tf.compat.v1.train.Optimizer instead.\n",
            "\n",
            "W0731 17:40:57.049780 139883695503232 deprecation.py:323] From /usr/local/lib/python3.6/dist-packages/tensorflow/python/ops/nn_impl.py:180: add_dispatch_support.<locals>.wrapper (from tensorflow.python.ops.array_ops) is deprecated and will be removed in a future version.\n",
            "Instructions for updating:\n",
            "Use tf.where in 2.0, which has the same broadcast rule as np.where\n"
          ],
          "name": "stderr"
        }
      ]
    },
    {
      "cell_type": "code",
      "metadata": {
        "id": "2OovcIIxd2p7",
        "colab_type": "code",
        "outputId": "995823bc-0085-418b-d7ff-6838c1ff8c96",
        "colab": {
          "base_uri": "https://localhost:8080/",
          "height": 35
        }
      },
      "source": [
        "trainAug = ImageDataGenerator(rescale = 1./255, fill_mode = \"nearest\")\n",
        "\n",
        "trainGen = trainAug.flow_from_directory(\n",
        "                    '/content/chest_xray/train',\n",
        "                    target_size = (num_px, num_px),\n",
        "                    batch_size = B_size,\n",
        "                    shuffle = True,\n",
        "                    class_mode = \"categorical\")"
      ],
      "execution_count": 10,
      "outputs": [
        {
          "output_type": "stream",
          "text": [
            "Found 5216 images belonging to 2 classes.\n"
          ],
          "name": "stdout"
        }
      ]
    },
    {
      "cell_type": "code",
      "metadata": {
        "id": "pIoOChEjfLt-",
        "colab_type": "code",
        "outputId": "c013248d-c51f-439a-dec5-8b45ca75f528",
        "colab": {
          "base_uri": "https://localhost:8080/",
          "height": 35
        }
      },
      "source": [
        "testGen = trainAug.flow_from_directory(\n",
        "                    '/content/chest_xray/test',\n",
        "                    target_size = (num_px, num_px),\n",
        "                    batch_size = B_size,\n",
        "                    shuffle = False,\n",
        "                    class_mode = \"categorical\")"
      ],
      "execution_count": 11,
      "outputs": [
        {
          "output_type": "stream",
          "text": [
            "Found 624 images belonging to 2 classes.\n"
          ],
          "name": "stdout"
        }
      ]
    },
    {
      "cell_type": "code",
      "metadata": {
        "id": "w9IhsBsDnuib",
        "colab_type": "code",
        "outputId": "e9483e55-1523-4a43-df97-729acb799487",
        "colab": {
          "base_uri": "https://localhost:8080/",
          "height": 35
        }
      },
      "source": [
        "ValGen = trainAug.flow_from_directory(\n",
        "                    '/content/chest_xray/val',\n",
        "                    target_size = (num_px, num_px),\n",
        "                    batch_size = B_size,\n",
        "                    shuffle = False,\n",
        "                    class_mode = \"categorical\")"
      ],
      "execution_count": 12,
      "outputs": [
        {
          "output_type": "stream",
          "text": [
            "Found 16 images belonging to 2 classes.\n"
          ],
          "name": "stdout"
        }
      ]
    },
    {
      "cell_type": "code",
      "metadata": {
        "id": "J9TYQNqMeRFv",
        "colab_type": "code",
        "outputId": "87d8c27a-a2c4-4f26-fabf-95ec9c726512",
        "colab": {
          "base_uri": "https://localhost:8080/",
          "height": 680
        }
      },
      "source": [
        "H = model.fit_generator(trainGen, epochs=E, validation_data = ValGen, validation_steps = 16/64,steps_per_epoch = 5216//64, callbacks = [early])"
      ],
      "execution_count": 13,
      "outputs": [
        {
          "output_type": "stream",
          "text": [
            "Epoch 1/20\n",
            "81/81 [==============================] - 54s 670ms/step - loss: 0.3728 - acc: 0.8314 - val_loss: 3.7444 - val_acc: 0.5000\n",
            "Epoch 2/20\n",
            "81/81 [==============================] - 50s 616ms/step - loss: 0.1061 - acc: 0.9624 - val_loss: 2.4104 - val_acc: 0.5000\n",
            "Epoch 3/20\n",
            "81/81 [==============================] - 50s 617ms/step - loss: 0.0744 - acc: 0.9755 - val_loss: 2.5998 - val_acc: 0.5000\n",
            "Epoch 4/20\n",
            "81/81 [==============================] - 51s 625ms/step - loss: 0.0627 - acc: 0.9782 - val_loss: 1.6636 - val_acc: 0.5000\n",
            "Epoch 5/20\n",
            "81/81 [==============================] - 51s 626ms/step - loss: 0.0464 - acc: 0.9853 - val_loss: 2.1147 - val_acc: 0.5000\n",
            "Epoch 6/20\n",
            "81/81 [==============================] - 51s 626ms/step - loss: 0.0466 - acc: 0.9828 - val_loss: 1.1676 - val_acc: 0.6250\n",
            "Epoch 7/20\n",
            "81/81 [==============================] - 52s 639ms/step - loss: 0.0368 - acc: 0.9877 - val_loss: 0.0362 - val_acc: 1.0000\n",
            "Epoch 8/20\n",
            "81/81 [==============================] - 50s 621ms/step - loss: 0.0375 - acc: 0.9875 - val_loss: 0.4906 - val_acc: 0.7500\n",
            "Epoch 9/20\n",
            "81/81 [==============================] - 52s 640ms/step - loss: 0.0360 - acc: 0.9878 - val_loss: 0.0195 - val_acc: 1.0000\n",
            "Epoch 10/20\n",
            "81/81 [==============================] - 50s 623ms/step - loss: 0.0276 - acc: 0.9896 - val_loss: 2.0427 - val_acc: 0.5625\n",
            "Epoch 11/20\n",
            "81/81 [==============================] - 50s 621ms/step - loss: 0.0266 - acc: 0.9907 - val_loss: 0.4804 - val_acc: 0.8125\n",
            "Epoch 12/20\n",
            "81/81 [==============================] - 50s 621ms/step - loss: 0.0241 - acc: 0.9904 - val_loss: 3.8964 - val_acc: 0.5000\n",
            "Epoch 13/20\n",
            "81/81 [==============================] - 50s 621ms/step - loss: 0.0258 - acc: 0.9886 - val_loss: 0.0706 - val_acc: 0.9375\n",
            "Epoch 14/20\n",
            "81/81 [==============================] - 49s 611ms/step - loss: 0.0203 - acc: 0.9929 - val_loss: 1.2334 - val_acc: 0.6875\n",
            "Epoch 15/20\n",
            "81/81 [==============================] - 50s 616ms/step - loss: 0.0144 - acc: 0.9952 - val_loss: 0.0686 - val_acc: 1.0000\n",
            "Epoch 16/20\n",
            "81/81 [==============================] - 51s 635ms/step - loss: 0.0110 - acc: 0.9967 - val_loss: 0.3787 - val_acc: 0.8750\n",
            "Epoch 17/20\n",
            "81/81 [==============================] - 50s 617ms/step - loss: 0.0222 - acc: 0.9929 - val_loss: 0.1184 - val_acc: 0.9375\n",
            "Epoch 00017: early stopping\n"
          ],
          "name": "stdout"
        }
      ]
    },
    {
      "cell_type": "code",
      "metadata": {
        "id": "q6icm1pWgOWX",
        "colab_type": "code",
        "colab": {}
      },
      "source": [
        "model.save('model.h5')"
      ],
      "execution_count": 0,
      "outputs": []
    },
    {
      "cell_type": "code",
      "metadata": {
        "id": "UVTVRCsMtJ18",
        "colab_type": "code",
        "outputId": "d2f0bdf6-2809-4704-f330-4b32b4de968d",
        "colab": {
          "base_uri": "https://localhost:8080/",
          "height": 35
        }
      },
      "source": [
        "testGen.reset()\n",
        "predicts = model.predict_generator(testGen, steps = (624 // B_size) + 1) \n",
        "predicts = np.argmax(predicts, axis=1)\n",
        "\n",
        "print(\"Test set accuracy: \" + \n",
        "      str(accuracy_score(testGen.classes, predicts, normalize=True) * 100) \n",
        "      + \"%\") "
      ],
      "execution_count": 14,
      "outputs": [
        {
          "output_type": "stream",
          "text": [
            "Test set accuracy: 90.06410256410257%\n"
          ],
          "name": "stdout"
        }
      ]
    },
    {
      "cell_type": "code",
      "metadata": {
        "id": "cSfUsk1fxyn7",
        "colab_type": "code",
        "colab": {}
      },
      "source": [
        ""
      ],
      "execution_count": 0,
      "outputs": []
    }
  ]
}